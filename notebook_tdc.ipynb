{
  "cells": [
    {
      "cell_type": "markdown",
      "metadata": {
        "id": "view-in-github",
        "colab_type": "text"
      },
      "source": [
        "<a href=\"https://colab.research.google.com/github/rodrigowue/Nutt-TDC/blob/main/notebook_tdc.ipynb\" target=\"_parent\"><img src=\"https://colab.research.google.com/assets/colab-badge.svg\" alt=\"Open In Colab\"/></a>"
      ]
    },
    {
      "cell_type": "markdown",
      "metadata": {
        "id": "aK2t7aSWNojQ"
      },
      "source": [
        "# Title: Template for Simple Simulations in GF180MCU Analysing a V<sub>GS</sub> sweep\n",
        "\n",
        "\n",
        "```\n",
        "SSCS TC-OSE Team, February 2023\n",
        "SPDX-License-Identifier: Apache-2.0\n",
        "```\n",
        "\n",
        "\n",
        "|Name|Email|Affiliation|IEEE Member|SSCS Member|\n",
        "|:--:|:--:|:----------:|:----------:|:----------:|\n",
        "|Author 1|Email1|Affiliation 1|Yes/No|Yes/No|\n",
        "|Author 2|Email2|Affiliation 2|Yes/No|Yes/No|\n",
        "|Author 3|Email3|Affiliation 3|Yes/No|Yes/No|\n",
        "|Author 4 (Lead) <br />|Email4|Affiliation 4|Yes/No|Yes/No|"
      ]
    },
    {
      "cell_type": "markdown",
      "metadata": {
        "id": "W7JQJy7mvn2w"
      },
      "source": [
        "**_Abstract_** - This electronic document is a “live” template and already defines the components of your paper [title, text, heads,\n",
        "etc.] in its style sheet. *\n",
        "\n",
        "**_Key words_** - component; formatting; style; styling; insert (key words)\n"
      ]
    },
    {
      "cell_type": "markdown",
      "metadata": {
        "id": "4ProrWGQPJEx"
      },
      "source": [
        "## Tool Installation\n",
        "\n",
        "This is where you need to install your tools. We provide here an example where conda environment is being installed and then Ngspice for simulations."
      ]
    },
    {
      "cell_type": "markdown",
      "metadata": {
        "id": "LLYfEdDLPJEy"
      },
      "source": [
        "\n",
        "**_Tool setup adopted from @proppy and @bmurmann (see this [Colab notebook](https://colab.research.google.com/gist/proppy/a0c5ed3e28e942f1621200dcf67bad5a/sky130-pyspice-playground.ipynb#scrollTo=q0XHBAt1jGmQ))_**"
      ]
    },
    {
      "cell_type": "code",
      "execution_count": null,
      "metadata": {
        "colab": {
          "base_uri": "https://localhost:8080/"
        },
        "id": "aKoPD8cKw2UL",
        "outputId": "0959dcdf-5df0-44ba-fb67-b9c3bd7d40b4"
      },
      "outputs": [
        {
          "output_type": "stream",
          "name": "stdout",
          "text": [
            "\n",
            "                                           __\n",
            "          __  ______ ___  ____ _____ ___  / /_  ____ _\n",
            "         / / / / __ `__ \\/ __ `/ __ `__ \\/ __ \\/ __ `/\n",
            "        / /_/ / / / / / / /_/ / / / / / / /_/ / /_/ /\n",
            "       / .___/_/ /_/ /_/\\__,_/_/ /_/ /_/_.___/\\__,_/\n",
            "      /_/\n",
            "\n",
            "Empty environment created at prefix: /content/conda-env\n",
            "\n",
            "                                           __\n",
            "          __  ______ ___  ____ _____ ___  / /_  ____ _\n",
            "         / / / / __ `__ \\/ __ `/ __ `__ \\/ __ \\/ __ `/\n",
            "        / /_/ / / / / / / /_/ / / / / / / /_/ / /_/ /\n",
            "       / .___/_/ /_/ /_/\\__,_/_/ /_/ /_/_.___/\\__,_/\n",
            "      /_/\n",
            "\n",
            "\n",
            "Pinned packages:\n",
            "  - python 3.7*\n",
            "\n",
            "\n",
            "Transaction\n",
            "\n",
            "  Prefix: /content/conda-env\n",
            "\n",
            "  Updating specs:\n",
            "\n",
            "   - ngspice=*\n",
            "\n",
            "\n",
            "  Package                    Version  Build            Channel                 Size\n",
            "─────────────────────────────────────────────────────────────────────────────────────\n",
            "  Install:\n",
            "─────────────────────────────────────────────────────────────────────────────────────\n",
            "\n",
            "  \u001b[32m+ _libgcc_mutex\u001b[0m                0.1  main             main/linux-64            3kB\n",
            "  \u001b[32m+ _openmp_mutex\u001b[0m                5.1  1_gnu            main/linux-64           21kB\n",
            "  \u001b[32m+ libgcc-ng    \u001b[0m             11.2.0  h1234567_1       main/linux-64            9MB\n",
            "  \u001b[32m+ libgomp      \u001b[0m             11.2.0  h1234567_1       main/linux-64          573kB\n",
            "  \u001b[32m+ libstdcxx-ng \u001b[0m             11.2.0  h1234567_1       main/linux-64            6MB\n",
            "  \u001b[32m+ ngspice      \u001b[0m  39.3_2_gf9ed3fd08  20230225_164303  litex-hub/linux-64       3MB\n",
            "\n",
            "  Summary:\n",
            "\n",
            "  Install: 6 packages\n",
            "\n",
            "  Total download: 19MB\n",
            "\n",
            "─────────────────────────────────────────────────────────────────────────────────────\n",
            "\n",
            "\n",
            "\n",
            "Transaction starting\n",
            "Linking libstdcxx-ng-11.2.0-h1234567_1\n",
            "Linking _libgcc_mutex-0.1-main\n",
            "Linking libgomp-11.2.0-h1234567_1\n",
            "Linking _openmp_mutex-5.1-1_gnu\n",
            "Linking libgcc-ng-11.2.0-h1234567_1\n",
            "Linking ngspice-39.3_2_gf9ed3fd08-20230225_164303\n",
            "Transaction finished\n",
            "downloading: https://github.com/efabless/globalfoundries-pdk-libs-gf180mcu_fd_pr/raw/main/models/ngspice/design.ngspice\n",
            "downloading: https://github.com/efabless/globalfoundries-pdk-libs-gf180mcu_fd_pr/raw/main/models/ngspice/sm141064.ngspice\n",
            "downloading: https://github.com/efabless/globalfoundries-pdk-libs-gf180mcu_fd_pr/raw/main/models/ngspice/sm141064_mim.ngspice\n",
            "downloading: https://github.com/efabless/globalfoundries-pdk-libs-gf180mcu_fd_pr/raw/main/models/ngspice/smbb000149.ngspice\n",
            "env: CONDA_PREFIX=/content/conda-env\n",
            "env: PATH=/content/conda-env/bin:/opt/bin:/usr/local/nvidia/bin:/usr/local/cuda/bin:/usr/local/sbin:/usr/local/bin:/usr/sbin:/usr/bin:/sbin:/bin:/tools/node/bin:/tools/google-cloud-sdk/bin\n"
          ]
        }
      ],
      "source": [
        "#@title Install dependencies {display-mode: \"form\"}\n",
        "#@markdown - Click the ▷ button to setup the digital design environment based on [conda-eda](https://github.com/hdl/conda-eda).\n",
        "\n",
        "ngspice_version = 'latest' #@param {type:\"string\"}\n",
        "gf180mcu_fd_pr_version = 'latest' #@param {type:\"string\"}\n",
        "\n",
        "if ngspice_version == 'latest':\n",
        "  ngspice_version = ''\n",
        "\n",
        "if gf180mcu_fd_pr_version == 'latest':\n",
        "  gf180mcu_fd_pr_version = 'main'\n",
        "\n",
        "import os\n",
        "import pathlib\n",
        "import urllib.request\n",
        "\n",
        "!curl -Ls https://micro.mamba.pm/api/micromamba/linux-64/latest | tar -xj bin/micromamba\n",
        "conda_prefix_path = pathlib.Path('conda-env')\n",
        "CONDA_PREFIX = str(conda_prefix_path.resolve())\n",
        "!bin/micromamba create --yes --prefix $CONDA_PREFIX\n",
        "!echo 'python ==3.7*' >> {CONDA_PREFIX}/conda-meta/pinned\n",
        "!CI=0 bin/micromamba install --yes --prefix $CONDA_PREFIX \\\n",
        "                     --channel litex-hub \\\n",
        "                     --channel main \\\n",
        "                     ngspice={ngspice_version}\n",
        "\n",
        "ngspice_models_dir = pathlib.Path('globalfoundries-pdk-libs-gf180mcu_fd_pr/models/ngspice')\n",
        "ngspice_models_dir.mkdir(exist_ok=True, parents=True)\n",
        "models = ['design.ngspice', 'sm141064.ngspice', 'sm141064_mim.ngspice', 'smbb000149.ngspice']\n",
        "for m in models:\n",
        "  url = f'https://github.com/efabless/globalfoundries-pdk-libs-gf180mcu_fd_pr/raw/{gf180mcu_fd_pr_version}/models/ngspice/{m}'\n",
        "  print('downloading:', url)\n",
        "  with urllib.request.urlopen(url) as src:\n",
        "    with (ngspice_models_dir / m).open('wb') as dst:\n",
        "      dst.write(src.read())\n",
        "\n",
        "PATH = os.environ['PATH']\n",
        "%env CONDA_PREFIX={CONDA_PREFIX}\n",
        "%env PATH={CONDA_PREFIX}/bin:{PATH}"
      ]
    },
    {
      "cell_type": "markdown",
      "metadata": {
        "id": "Qnn9H_oowEgQ"
      },
      "source": [
        "## I. Introduction\n",
        "\n",
        "Please Introduce your idea here. Feel free to add subsections and figures."
      ]
    },
    {
      "cell_type": "markdown",
      "metadata": {
        "id": "QNj3rwejPJE7"
      },
      "source": [
        "## II. Implementation Details of your Idea\n",
        "\n",
        "This is where you should describe your idea in more details. Circuit diagrams, Flow chart, Simulations, etc.. are expected.\n",
        "\n"
      ]
    },
    {
      "cell_type": "markdown",
      "metadata": {
        "id": "l145R7JJPJE7"
      },
      "source": [
        "**Example of a Simulation Flow using Ngspice**"
      ]
    },
    {
      "cell_type": "code",
      "execution_count": null,
      "metadata": {
        "colab": {
          "base_uri": "https://localhost:8080/"
        },
        "id": "J0k4CykG8wui",
        "outputId": "8b69d99a-4b1c-42b5-f860-53e0b43a2701"
      },
      "outputs": [
        {
          "output_type": "stream",
          "name": "stdout",
          "text": [
            "Writing .spiceinit\n"
          ]
        }
      ],
      "source": [
        "%%writefile .spiceinit\n",
        "set ngbehavior=hs"
      ]
    },
    {
      "cell_type": "code",
      "execution_count": null,
      "metadata": {
        "colab": {
          "base_uri": "https://localhost:8080/"
        },
        "id": "d4381uZZ1dbj",
        "outputId": "ae4c2403-439f-4d55-a2a1-9338f712449c"
      },
      "outputs": [
        {
          "output_type": "stream",
          "name": "stdout",
          "text": [
            "Writing netlist.spice\n"
          ]
        }
      ],
      "source": [
        "%%writefile netlist.spice\n",
        "* PMOS VGS sweep\n",
        "\n",
        ".include \"globalfoundries-pdk-libs-gf180mcu_fd_pr/models/ngspice/design.ngspice\"\n",
        ".lib \"globalfoundries-pdk-libs-gf180mcu_fd_pr/models/ngspice/sm141064.ngspice\" typical\n",
        "\n",
        ".param width=10u\n",
        "X1 vdp vgp 0 vbp pfet_03v3 w=width l=0.28u AD={width*0.24u} AS={width*0.24u} PD={2*(width + 0.24u)} PS={2*(width + 0.24u)}\n",
        "vsdp     0  vdp        dc 0.9\n",
        "vsgp     0  vgp        dc 0.9\n",
        "vsbp     0  vbp        dc 0\n",
        ".op\n",
        ".option post nomod\n",
        ".end\n",
        "\n",
        ".control\n",
        "save all @m.x1.m0[id] @m.x1.m0[gm]  @m.x1.m0[cgg]\n",
        "dc vsgp 0 1.8 0.01\n",
        "display\n",
        "wrdata output.txt @m.x1.m0[id] @m.x1.m0[gm]  @m.x1.m0[cgg]\n",
        ".endc"
      ]
    },
    {
      "cell_type": "code",
      "execution_count": null,
      "metadata": {
        "colab": {
          "base_uri": "https://localhost:8080/"
        },
        "id": "6Qs0DbgP02vN",
        "outputId": "0cf96806-cf62-4069-ceca-6c508ca39aaa"
      },
      "outputs": [
        {
          "output_type": "stream",
          "name": "stdout",
          "text": [
            "\n",
            "Note: Compatibility modes selected: hs\n",
            "\n",
            "Warning: m=xx on .subckt line will override multiplier m hierarchy!\n",
            "\n",
            "\n",
            "Circuit: * pmos vgs sweep\n",
            "\n",
            "Doing analysis at TEMP = 27.000000 and TNOM = 27.000000\n",
            "\n",
            "\n",
            "No. of Data Rows : 181\n",
            "Here are the vectors currently active:\n",
            "\n",
            "Title: * pmos vgs sweep\n",
            "Name: dc1 (DC transfer characteristic)\n",
            "Date: Fri Mar 10 04:41:42  2023\n",
            "\n",
            "    @m.x1.m0[cgg]       : capacitance, real, 181 long\n",
            "    @m.x1.m0[gm]        : admittance, real, 181 long\n",
            "    @m.x1.m0[id]        : current, real, 181 long\n",
            "    v-sweep             : voltage, real, 181 long [default scale]\n",
            "    vbp                 : voltage, real, 181 long\n",
            "    vdp                 : voltage, real, 181 long\n",
            "    vgp                 : voltage, real, 181 long\n",
            "    vsbp#branch         : current, real, 181 long\n",
            "    vsdp#branch         : current, real, 181 long\n",
            "    vsgp#branch         : current, real, 181 long\n",
            "Doing analysis at TEMP = 27.000000 and TNOM = 27.000000\n",
            "\n",
            "\n",
            "No. of Data Rows : 1\n",
            "\tNode                                  Voltage\n",
            "\t----                                  -------\n",
            "\t----\t-------\n",
            "\tvbp                              0.000000e+00\n",
            "\tvgp                              -9.00000e-01\n",
            "\tvdp                              -9.00000e-01\n",
            "\n",
            "\tSource\tCurrent\n",
            "\t------\t-------\n",
            "\n",
            "\t@m.x1.m0[id]                     2.878168e-05\n",
            "\tvsdp#branch                      -2.87817e-05\n",
            "\tvsgp#branch                      0.000000e+00\n",
            "\tvsbp#branch                      9.008252e-13\n",
            "\n",
            " BSIM4v5: Berkeley Short Channel IGFET Model-4\n",
            "     device               m.x1.m0\n",
            "      model           pfet_03v3.8\n",
            "          l               2.8e-07\n",
            "          w                 1e-05\n",
            "          m                     1\n",
            "         nf                     1\n",
            "         sa                     0\n",
            "         sb                     0\n",
            "         sd                     0\n",
            "        sca                     0\n",
            "        scb                     0\n",
            "        scc                     0\n",
            "         sc                     0\n",
            "        min                     0\n",
            "         ad               2.4e-12\n",
            "         as               2.4e-12\n",
            "         pd             2.048e-05\n",
            "         ps             2.048e-05\n",
            "        nrd                     0\n",
            "        nrs                     0\n",
            "        off                     0\n",
            "       rbdb                    50\n",
            "       rbsb                    50\n",
            "       rbpb                    50\n",
            "       rbps                    50\n",
            "       rbpd                    50\n",
            "     delvto                    -0\n",
            "      mulu0                     1\n",
            "        xgw                     0\n",
            "      ngcon                     1\n",
            "   trnqsmod                     0\n",
            "   acnqsmod                     0\n",
            "   rbodymod                     0\n",
            "   rgatemod                     0\n",
            "     geomod                     0\n",
            "    rgeomod                     0\n",
            "       gmbs           8.95099e-05\n",
            "         gm           0.000269371\n",
            "        gds           5.97813e-06\n",
            "      vdsat              0.193151\n",
            "        vth              0.734139\n",
            "         id           2.87817e-05\n",
            "        ibd          -9.00825e-13\n",
            "        ibs                     0\n",
            "        gbd           1.00168e-12\n",
            "        gbs           1.00054e-12\n",
            "       isub           1.89841e-19\n",
            "      igidl                     0\n",
            "      igisl                     0\n",
            "        igs                     0\n",
            "        igd                     0\n",
            "        igb                     0\n",
            "       igcs                     0\n",
            "       igcd                     0\n",
            "        vbs                    -0\n",
            "        vgs                   0.9\n",
            "        vds                   0.9\n",
            "        cgg            9.1479e-15\n",
            "        cgs           -6.8743e-15\n",
            "        cgd           5.70911e-17\n",
            "        cbg          -1.64433e-15\n",
            "        cbd           2.68413e-17\n",
            "        cbs          -3.18902e-15\n",
            "        cdg          -3.00443e-15\n",
            "        cdd          -3.18562e-17\n",
            "        cds            4.0277e-15\n",
            "        csg          -4.49914e-15\n",
            "        csd          -5.20762e-17\n",
            "        css           6.03562e-15\n",
            "        cgb          -2.33068e-15\n",
            "        cdb          -9.91414e-16\n",
            "        csb          -1.48441e-15\n",
            "        cbb            4.8065e-15\n",
            "      capbd           7.22884e-15\n",
            "      capbs           8.65386e-15\n",
            "         qg           1.18378e-14\n",
            "         qb          -9.40755e-15\n",
            "         qd          -9.72774e-16\n",
            "         qs          -1.45748e-15\n",
            "       qinv           1.36557e-15\n",
            "       qdef                    -0\n",
            "       gcrg                     0\n",
            "       gtau                     0\n",
            "\n",
            " Vsource: Independent voltage source\n",
            "     device                  vsbp                  vsgp                  vsdp\n",
            "         dc                     0                   0.9                   0.9\n",
            "      acmag                     0                     0                     0\n",
            "      pulse         -         -         -\n",
            "        sin         -         -         -\n",
            "        exp         -         -         -\n",
            "        pwl         -         -         -\n",
            "       sffm         -         -         -\n",
            "         am         -         -         -\n",
            "    trnoise         -         -         -\n",
            "   trrandom         -         -         -\n",
            "    portnum                     0                     0                     0\n",
            "         z0                     0                     0                     0\n",
            "        pwr                     0                     0                     0\n",
            "       freq                     0                     0                     0\n",
            "      phase                     0                     0                     0\n",
            "          i           9.00825e-13                     0          -2.87817e-05\n",
            "          p                     0                     0          -2.59035e-05\n",
            "\n",
            "\n",
            "Total analysis time (seconds) = 0.001798\n",
            "\n",
            "Total CPU time (seconds) = 0.114 \n",
            "\n",
            "Total DRAM available = 12985.547 MB.\n",
            "DRAM currently available = 7227.352 MB.\n",
            "Maximum ngspice program size =   20.113 MB.\n",
            "Current ngspice program size =   14.832 MB.\n",
            "\n",
            "Shared ngspice pages =    6.988 MB.\n",
            "Text (code) pages =    5.059 MB.\n",
            "Stack = 0 bytes.\n",
            "Library pages =    8.773 MB.\n",
            "\n"
          ]
        }
      ],
      "source": [
        "!ngspice -b netlist.spice"
      ]
    },
    {
      "cell_type": "code",
      "execution_count": null,
      "metadata": {
        "colab": {
          "base_uri": "https://localhost:8080/",
          "height": 423
        },
        "id": "xh5L-L-KaM9A",
        "outputId": "bf99bf27-a710-4047-8282-c7b927499446"
      },
      "outputs": [
        {
          "output_type": "execute_result",
          "data": {
            "text/plain": [
              "      vsg            gm  vsg1            id  vsg2           cgg     gm_id  \\\n",
              "0    0.00  2.327947e-14  0.00  6.266460e-13  0.00  5.090079e-15  0.037149   \n",
              "1    0.01  3.047037e-14  0.01  8.202064e-13  0.01  5.067127e-15  0.037150   \n",
              "2    0.02  3.988240e-14  0.02  1.073551e-12  0.02  5.044596e-15  0.037150   \n",
              "3    0.03  5.220157e-14  0.03  1.405141e-12  0.03  5.022486e-15  0.037150   \n",
              "4    0.04  6.832577e-14  0.04  1.839142e-12  0.04  5.000804e-15  0.037151   \n",
              "..    ...           ...   ...           ...   ...           ...       ...   \n",
              "176  1.76  5.645906e-04  1.76  8.077414e-04  1.76  9.709857e-15  0.698974   \n",
              "177  1.77  5.726699e-04  1.77  8.080913e-04  1.77  9.714894e-15  0.708670   \n",
              "178  1.78  5.807518e-04  1.78  8.082642e-04  1.78  9.720098e-15  0.718517   \n",
              "179  1.79  5.888346e-04  1.79  8.082598e-04  1.79  9.725480e-15  0.728521   \n",
              "180  1.80  5.969164e-04  1.80  8.080786e-04  1.80  9.731051e-15  0.738686   \n",
              "\n",
              "              f_T  \n",
              "0    7.278949e-01  \n",
              "1    9.570531e-01  \n",
              "2    1.258273e+00  \n",
              "3    1.654188e+00  \n",
              "4    2.174527e+00  \n",
              "..            ...  \n",
              "176  9.254244e+09  \n",
              "177  9.381806e+09  \n",
              "178  9.509114e+09  \n",
              "179  9.636124e+09  \n",
              "180  9.762790e+09  \n",
              "\n",
              "[181 rows x 8 columns]"
            ],
            "text/html": [
              "\n",
              "  <div id=\"df-611bd9c2-c86a-4c72-ab9c-7d99511c6b59\">\n",
              "    <div class=\"colab-df-container\">\n",
              "      <div>\n",
              "<style scoped>\n",
              "    .dataframe tbody tr th:only-of-type {\n",
              "        vertical-align: middle;\n",
              "    }\n",
              "\n",
              "    .dataframe tbody tr th {\n",
              "        vertical-align: top;\n",
              "    }\n",
              "\n",
              "    .dataframe thead th {\n",
              "        text-align: right;\n",
              "    }\n",
              "</style>\n",
              "<table border=\"1\" class=\"dataframe\">\n",
              "  <thead>\n",
              "    <tr style=\"text-align: right;\">\n",
              "      <th></th>\n",
              "      <th>vsg</th>\n",
              "      <th>gm</th>\n",
              "      <th>vsg1</th>\n",
              "      <th>id</th>\n",
              "      <th>vsg2</th>\n",
              "      <th>cgg</th>\n",
              "      <th>gm_id</th>\n",
              "      <th>f_T</th>\n",
              "    </tr>\n",
              "  </thead>\n",
              "  <tbody>\n",
              "    <tr>\n",
              "      <th>0</th>\n",
              "      <td>0.00</td>\n",
              "      <td>2.327947e-14</td>\n",
              "      <td>0.00</td>\n",
              "      <td>6.266460e-13</td>\n",
              "      <td>0.00</td>\n",
              "      <td>5.090079e-15</td>\n",
              "      <td>0.037149</td>\n",
              "      <td>7.278949e-01</td>\n",
              "    </tr>\n",
              "    <tr>\n",
              "      <th>1</th>\n",
              "      <td>0.01</td>\n",
              "      <td>3.047037e-14</td>\n",
              "      <td>0.01</td>\n",
              "      <td>8.202064e-13</td>\n",
              "      <td>0.01</td>\n",
              "      <td>5.067127e-15</td>\n",
              "      <td>0.037150</td>\n",
              "      <td>9.570531e-01</td>\n",
              "    </tr>\n",
              "    <tr>\n",
              "      <th>2</th>\n",
              "      <td>0.02</td>\n",
              "      <td>3.988240e-14</td>\n",
              "      <td>0.02</td>\n",
              "      <td>1.073551e-12</td>\n",
              "      <td>0.02</td>\n",
              "      <td>5.044596e-15</td>\n",
              "      <td>0.037150</td>\n",
              "      <td>1.258273e+00</td>\n",
              "    </tr>\n",
              "    <tr>\n",
              "      <th>3</th>\n",
              "      <td>0.03</td>\n",
              "      <td>5.220157e-14</td>\n",
              "      <td>0.03</td>\n",
              "      <td>1.405141e-12</td>\n",
              "      <td>0.03</td>\n",
              "      <td>5.022486e-15</td>\n",
              "      <td>0.037150</td>\n",
              "      <td>1.654188e+00</td>\n",
              "    </tr>\n",
              "    <tr>\n",
              "      <th>4</th>\n",
              "      <td>0.04</td>\n",
              "      <td>6.832577e-14</td>\n",
              "      <td>0.04</td>\n",
              "      <td>1.839142e-12</td>\n",
              "      <td>0.04</td>\n",
              "      <td>5.000804e-15</td>\n",
              "      <td>0.037151</td>\n",
              "      <td>2.174527e+00</td>\n",
              "    </tr>\n",
              "    <tr>\n",
              "      <th>...</th>\n",
              "      <td>...</td>\n",
              "      <td>...</td>\n",
              "      <td>...</td>\n",
              "      <td>...</td>\n",
              "      <td>...</td>\n",
              "      <td>...</td>\n",
              "      <td>...</td>\n",
              "      <td>...</td>\n",
              "    </tr>\n",
              "    <tr>\n",
              "      <th>176</th>\n",
              "      <td>1.76</td>\n",
              "      <td>5.645906e-04</td>\n",
              "      <td>1.76</td>\n",
              "      <td>8.077414e-04</td>\n",
              "      <td>1.76</td>\n",
              "      <td>9.709857e-15</td>\n",
              "      <td>0.698974</td>\n",
              "      <td>9.254244e+09</td>\n",
              "    </tr>\n",
              "    <tr>\n",
              "      <th>177</th>\n",
              "      <td>1.77</td>\n",
              "      <td>5.726699e-04</td>\n",
              "      <td>1.77</td>\n",
              "      <td>8.080913e-04</td>\n",
              "      <td>1.77</td>\n",
              "      <td>9.714894e-15</td>\n",
              "      <td>0.708670</td>\n",
              "      <td>9.381806e+09</td>\n",
              "    </tr>\n",
              "    <tr>\n",
              "      <th>178</th>\n",
              "      <td>1.78</td>\n",
              "      <td>5.807518e-04</td>\n",
              "      <td>1.78</td>\n",
              "      <td>8.082642e-04</td>\n",
              "      <td>1.78</td>\n",
              "      <td>9.720098e-15</td>\n",
              "      <td>0.718517</td>\n",
              "      <td>9.509114e+09</td>\n",
              "    </tr>\n",
              "    <tr>\n",
              "      <th>179</th>\n",
              "      <td>1.79</td>\n",
              "      <td>5.888346e-04</td>\n",
              "      <td>1.79</td>\n",
              "      <td>8.082598e-04</td>\n",
              "      <td>1.79</td>\n",
              "      <td>9.725480e-15</td>\n",
              "      <td>0.728521</td>\n",
              "      <td>9.636124e+09</td>\n",
              "    </tr>\n",
              "    <tr>\n",
              "      <th>180</th>\n",
              "      <td>1.80</td>\n",
              "      <td>5.969164e-04</td>\n",
              "      <td>1.80</td>\n",
              "      <td>8.080786e-04</td>\n",
              "      <td>1.80</td>\n",
              "      <td>9.731051e-15</td>\n",
              "      <td>0.738686</td>\n",
              "      <td>9.762790e+09</td>\n",
              "    </tr>\n",
              "  </tbody>\n",
              "</table>\n",
              "<p>181 rows × 8 columns</p>\n",
              "</div>\n",
              "      <button class=\"colab-df-convert\" onclick=\"convertToInteractive('df-611bd9c2-c86a-4c72-ab9c-7d99511c6b59')\"\n",
              "              title=\"Convert this dataframe to an interactive table.\"\n",
              "              style=\"display:none;\">\n",
              "        \n",
              "  <svg xmlns=\"http://www.w3.org/2000/svg\" height=\"24px\"viewBox=\"0 0 24 24\"\n",
              "       width=\"24px\">\n",
              "    <path d=\"M0 0h24v24H0V0z\" fill=\"none\"/>\n",
              "    <path d=\"M18.56 5.44l.94 2.06.94-2.06 2.06-.94-2.06-.94-.94-2.06-.94 2.06-2.06.94zm-11 1L8.5 8.5l.94-2.06 2.06-.94-2.06-.94L8.5 2.5l-.94 2.06-2.06.94zm10 10l.94 2.06.94-2.06 2.06-.94-2.06-.94-.94-2.06-.94 2.06-2.06.94z\"/><path d=\"M17.41 7.96l-1.37-1.37c-.4-.4-.92-.59-1.43-.59-.52 0-1.04.2-1.43.59L10.3 9.45l-7.72 7.72c-.78.78-.78 2.05 0 2.83L4 21.41c.39.39.9.59 1.41.59.51 0 1.02-.2 1.41-.59l7.78-7.78 2.81-2.81c.8-.78.8-2.07 0-2.86zM5.41 20L4 18.59l7.72-7.72 1.47 1.35L5.41 20z\"/>\n",
              "  </svg>\n",
              "      </button>\n",
              "      \n",
              "  \n",
              "    <button class=\"colab-df-quickchart\" onclick=\"quickchart('df-611bd9c2-c86a-4c72-ab9c-7d99511c6b59')\"\n",
              "            title=\"Generate charts.\"\n",
              "            style=\"display:none;\">\n",
              "      \n",
              "  <svg xmlns=\"http://www.w3.org/2000/svg\" height=\"24px\"viewBox=\"0 0 24 24\"\n",
              "       width=\"24px\">\n",
              "      <g>\n",
              "          <path d=\"M19 3H5c-1.1 0-2 .9-2 2v14c0 1.1.9 2 2 2h14c1.1 0 2-.9 2-2V5c0-1.1-.9-2-2-2zM9 17H7v-7h2v7zm4 0h-2V7h2v10zm4 0h-2v-4h2v4z\"/>\n",
              "      </g>\n",
              "  </svg>\n",
              "    </button>\n",
              "   \n",
              "  <style>\n",
              "    .colab-df-quickchart {\n",
              "      background-color: #E8F0FE;\n",
              "      border: none;\n",
              "      border-radius: 50%;\n",
              "      cursor: pointer;\n",
              "      display: none;\n",
              "      fill: #1967D2;\n",
              "      height: 32px;\n",
              "      padding: 0 0 0 0;\n",
              "      width: 32px;\n",
              "    }\n",
              "\n",
              "    .colab-df-quickchart:hover {\n",
              "      background-color: #E2EBFA;\n",
              "      box-shadow: 0px 1px 2px rgba(60, 64, 67, 0.3), 0px 1px 3px 1px rgba(60, 64, 67, 0.15);\n",
              "      fill: #174EA6;\n",
              "    }\n",
              "\n",
              "    [theme=dark] .colab-df-quickchart {\n",
              "      background-color: #3B4455;\n",
              "      fill: #D2E3FC;\n",
              "    }\n",
              "\n",
              "    [theme=dark] .colab-df-quickchart:hover {\n",
              "      background-color: #434B5C;\n",
              "      box-shadow: 0px 1px 3px 1px rgba(0, 0, 0, 0.15);\n",
              "      filter: drop-shadow(0px 1px 2px rgba(0, 0, 0, 0.3));\n",
              "      fill: #FFFFFF;\n",
              "    }\n",
              "  </style>\n",
              "\n",
              "    <script>\n",
              "      const quickchartButtonEl =\n",
              "        document.querySelector('#df-611bd9c2-c86a-4c72-ab9c-7d99511c6b59 button.colab-df-quickchart');\n",
              "      quickchartButtonEl.style.display =\n",
              "        google.colab.kernel.accessAllowed ? 'block' : 'none';\n",
              "\n",
              "      async function quickchart(key) {\n",
              "        const containerElement = document.querySelector('#df-611bd9c2-c86a-4c72-ab9c-7d99511c6b59');\n",
              "        const charts = await google.colab.kernel.invokeFunction(\n",
              "            'generateCharts', [key], {})\n",
              "      }\n",
              "    </script>    \n",
              "  <style>\n",
              "    .colab-df-container {\n",
              "      display:flex;\n",
              "      flex-wrap:wrap;\n",
              "      gap: 12px;\n",
              "    }\n",
              "\n",
              "    .colab-df-convert {\n",
              "      background-color: #E8F0FE;\n",
              "      border: none;\n",
              "      border-radius: 50%;\n",
              "      cursor: pointer;\n",
              "      display: none;\n",
              "      fill: #1967D2;\n",
              "      height: 32px;\n",
              "      padding: 0 0 0 0;\n",
              "      width: 32px;\n",
              "    }\n",
              "\n",
              "    .colab-df-convert:hover {\n",
              "      background-color: #E2EBFA;\n",
              "      box-shadow: 0px 1px 2px rgba(60, 64, 67, 0.3), 0px 1px 3px 1px rgba(60, 64, 67, 0.15);\n",
              "      fill: #174EA6;\n",
              "    }\n",
              "\n",
              "    [theme=dark] .colab-df-convert {\n",
              "      background-color: #3B4455;\n",
              "      fill: #D2E3FC;\n",
              "    }\n",
              "\n",
              "    [theme=dark] .colab-df-convert:hover {\n",
              "      background-color: #434B5C;\n",
              "      box-shadow: 0px 1px 3px 1px rgba(0, 0, 0, 0.15);\n",
              "      filter: drop-shadow(0px 1px 2px rgba(0, 0, 0, 0.3));\n",
              "      fill: #FFFFFF;\n",
              "    }\n",
              "  </style>\n",
              "\n",
              "      <script>\n",
              "        const buttonEl =\n",
              "          document.querySelector('#df-611bd9c2-c86a-4c72-ab9c-7d99511c6b59 button.colab-df-convert');\n",
              "        buttonEl.style.display =\n",
              "          google.colab.kernel.accessAllowed ? 'block' : 'none';\n",
              "\n",
              "        async function convertToInteractive(key) {\n",
              "          const element = document.querySelector('#df-611bd9c2-c86a-4c72-ab9c-7d99511c6b59');\n",
              "          const dataTable =\n",
              "            await google.colab.kernel.invokeFunction('convertToInteractive',\n",
              "                                                     [key], {});\n",
              "          if (!dataTable) return;\n",
              "\n",
              "          const docLinkHtml = 'Like what you see? Visit the ' +\n",
              "            '<a target=\"_blank\" href=https://colab.research.google.com/notebooks/data_table.ipynb>data table notebook</a>'\n",
              "            + ' to learn more about interactive tables.';\n",
              "          element.innerHTML = '';\n",
              "          dataTable['output_type'] = 'display_data';\n",
              "          await google.colab.output.renderOutput(dataTable, element);\n",
              "          const docLink = document.createElement('div');\n",
              "          docLink.innerHTML = docLinkHtml;\n",
              "          element.appendChild(docLink);\n",
              "        }\n",
              "      </script>\n",
              "    </div>\n",
              "  </div>\n",
              "  "
            ]
          },
          "metadata": {},
          "execution_count": 5
        }
      ],
      "source": [
        "import math\n",
        "import pandas as pd\n",
        "import matplotlib.pyplot as plt\n",
        "df = pd.read_csv(\"output.txt\", delim_whitespace=True, header=None)\n",
        "df.columns = [\"vsg\", \"gm\", \"vsg1\", \"id\", \"vsg2\", \"cgg\"]\n",
        "df['gm_id'] = df['gm']/df['id']\n",
        "df['f_T'] = df['gm']/df['cgg']/2/math.pi\n",
        "df"
      ]
    },
    {
      "cell_type": "code",
      "execution_count": null,
      "metadata": {
        "colab": {
          "base_uri": "https://localhost:8080/",
          "height": 279
        },
        "id": "rCTaJreri9ke",
        "outputId": "7e782d05-07d7-44bb-9b97-5969e00900a5"
      },
      "outputs": [
        {
          "output_type": "display_data",
          "data": {
            "text/plain": [
              "<Figure size 432x288 with 1 Axes>"
            ],
            "image/png": "[encoded data removed]"
          },
          "metadata": {
            "needs_background": "light"
          }
        }
      ],
      "source": [
        "df.plot(x=\"vsg\", y=\"id\", logy=True, grid=True)\n",
        "plt.show()"
      ]
    },
    {
      "cell_type": "code",
      "execution_count": null,
      "metadata": {
        "colab": {
          "base_uri": "https://localhost:8080/",
          "height": 279
        },
        "id": "QtT18v6ElmwL",
        "outputId": "63fb4833-4ccb-4ce9-9fd5-4d0f23df8e6f"
      },
      "outputs": [
        {
          "output_type": "display_data",
          "data": {
            "text/plain": [
              "<Figure size 432x288 with 1 Axes>"
            ],
            "image/png": "[encoded data removed]"
          },
          "metadata": {
            "needs_background": "light"
          }
        }
      ],
      "source": [
        "df.plot(x=\"vsg\", y=\"gm_id\", grid=True)\n",
        "plt.show()"
      ]
    },
    {
      "cell_type": "code",
      "execution_count": null,
      "metadata": {
        "colab": {
          "base_uri": "https://localhost:8080/",
          "height": 290
        },
        "id": "fuCOaerRn2EV",
        "outputId": "51e206f2-aa22-44a9-d24c-7a5c0f1f74e4"
      },
      "outputs": [
        {
          "output_type": "display_data",
          "data": {
            "text/plain": [
              "<Figure size 432x288 with 1 Axes>"
            ],
            "image/png": "[encoded data removed]"
          },
          "metadata": {
            "needs_background": "light"
          }
        }
      ],
      "source": [
        "df.plot(x=\"vsg\", y=\"f_T\", grid=True)\n",
        "plt.show()"
      ]
    },
    {
      "cell_type": "markdown",
      "metadata": {
        "id": "_5Pg-YCXPJE_"
      },
      "source": [
        "## III. Summary of your Idea\n",
        "\n",
        "This is where you summarize your work. Comparison tables and a description of your expected results should be listed here."
      ]
    },
    {
      "cell_type": "markdown",
      "metadata": {
        "id": "llYW0-ATPJE_"
      },
      "source": [
        "## IV. Planification and Tasks\n",
        "\n",
        "Planning and breakdown of tasks are usually helpful for a successful project. Good Luck!"
      ]
    }
  ],
  "metadata": {
    "colab": {
      "provenance": [],
      "toc_visible": true,
      "include_colab_link": true
    },
    "kernelspec": {
      "display_name": "Python 3.9.13 64-bit",
      "language": "python",
      "name": "python3"
    },
    "language_info": {
      "name": "python",
      "version": "3.9.13"
    },
    "vscode": {
      "interpreter": {
        "hash": "397704579725e15f5c7cb49fe5f0341eb7531c82d19f2c29d197e8b64ab5776b"
      }
    }
  },
  "nbformat": 4,
  "nbformat_minor": 0
}