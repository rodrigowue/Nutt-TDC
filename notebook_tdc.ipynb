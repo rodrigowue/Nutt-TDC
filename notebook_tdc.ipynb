{
  "cells": [
    {
      "cell_type": "markdown",
      "metadata": {
        "id": "view-in-github",
        "colab_type": "text"
      },
      "source": [
        "<a href=\"https://colab.research.google.com/github/rodrigowue/Nutt-TDC/blob/main/notebook_tdc.ipynb\" target=\"_parent\"><img src=\"https://colab.research.google.com/assets/colab-badge.svg\" alt=\"Open In Colab\"/></a>"
      ]
    },
    {
      "cell_type": "markdown",
      "metadata": {
        "id": "aK2t7aSWNojQ"
      },
      "source": [
        "\n",
        "\n",
        "```\n",
        "# This is formatted as code\n",
        "```\n",
        "\n",
        "# Synthesizable Nutt-Based TDC With Self-Timing Calibration\n",
        "\n",
        "\n",
        "```\n",
        "SSCS TC-OSE Team, February 2023\n",
        "SPDX-License-Identifier: Apache-2.0\n",
        "```\n",
        "\n",
        "\n",
        "|Name|Email|Affiliation|IEEE Member|SSCS Member|\n",
        "|:--:|:--:|:----------:|:----------:|:----------:|\n",
        "|Rodrigo Nogueira Wuerdig|rnwuerdig@inf.ufrgs.br|UFRGS|Yes|Yes|\n",
        "|Author 2|Email2|Affiliation 2|Yes/No|Yes/No|\n",
        "|Author 3|Email3|Affiliation 3|Yes/No|Yes/No|\n",
        "|Author 4 (Lead) <br />|Email4|Affiliation 4|Yes/No|Yes/No|"
      ]
    },
    {
      "cell_type": "markdown",
      "metadata": {
        "id": "W7JQJy7mvn2w"
      },
      "source": [
        "**_Abstract_** - This electronic document is a “live” template and already defines the components of your paper [title, text, heads,\n",
        "etc.] in its style sheet. *\n",
        "\n",
        "**_Key words_** - component; formatting; style; styling; insert (key words)\n"
      ]
    },
    {
      "cell_type": "markdown",
      "metadata": {
        "id": "4ProrWGQPJEx"
      },
      "source": [
        "## Tool Installation\n",
        "\n",
        "This is where you need to install your tools. We provide here an example where conda environment is being installed and then Ngspice for simulations."
      ]
    },
    {
      "cell_type": "markdown",
      "metadata": {
        "id": "LLYfEdDLPJEy"
      },
      "source": [
        "\n",
        "**_Tool setup adopted from @proppy and @bmurmann (see this [Colab notebook](https://colab.research.google.com/gist/proppy/a0c5ed3e28e942f1621200dcf67bad5a/sky130-pyspice-playground.ipynb#scrollTo=q0XHBAt1jGmQ))_**"
      ]
    },
    {
      "cell_type": "code",
      "execution_count": null,
      "metadata": {
        "id": "aKoPD8cKw2UL"
      },
      "outputs": [],
      "source": [
        "#@title Install dependencies {display-mode: \"form\"}\n",
        "#@markdown - Click the ▷ button to setup the digital design environment based on [conda-eda](https://github.com/hdl/conda-eda).\n",
        "\n",
        "ngspice_version = 'latest' #@param {type:\"string\"}\n",
        "gf180mcu_fd_pr_version = 'latest' #@param {type:\"string\"}\n",
        "\n",
        "if ngspice_version == 'latest':\n",
        "  ngspice_version = ''\n",
        "\n",
        "if gf180mcu_fd_pr_version == 'latest':\n",
        "  gf180mcu_fd_pr_version = 'main'\n",
        "\n",
        "import os\n",
        "import pathlib\n",
        "import urllib.request\n",
        "\n",
        "!curl -Ls https://micro.mamba.pm/api/micromamba/linux-64/latest | tar -xj bin/micromamba\n",
        "conda_prefix_path = pathlib.Path('conda-env')\n",
        "CONDA_PREFIX = str(conda_prefix_path.resolve())\n",
        "!bin/micromamba create --yes --prefix $CONDA_PREFIX\n",
        "!echo 'python ==3.7*' >> {CONDA_PREFIX}/conda-meta/pinned\n",
        "!CI=0 bin/micromamba install --yes --prefix $CONDA_PREFIX \\\n",
        "                     --channel litex-hub \\\n",
        "                     --channel main \\\n",
        "                     ngspice={ngspice_version}\n",
        "\n",
        "ngspice_models_dir = pathlib.Path('globalfoundries-pdk-libs-gf180mcu_fd_pr/models/ngspice')\n",
        "ngspice_models_dir.mkdir(exist_ok=True, parents=True)\n",
        "models = ['design.ngspice', 'sm141064.ngspice', 'sm141064_mim.ngspice', 'smbb000149.ngspice']\n",
        "for m in models:\n",
        "  url = f'https://github.com/efabless/globalfoundries-pdk-libs-gf180mcu_fd_pr/raw/{gf180mcu_fd_pr_version}/models/ngspice/{m}'\n",
        "  print('downloading:', url)\n",
        "  with urllib.request.urlopen(url) as src:\n",
        "    with (ngspice_models_dir / m).open('wb') as dst:\n",
        "      dst.write(src.read())\n",
        "\n",
        "PATH = os.environ['PATH']\n",
        "%env CONDA_PREFIX={CONDA_PREFIX}\n",
        "%env PATH={CONDA_PREFIX}/bin:{PATH}"
      ]
    },
    {
      "cell_type": "markdown",
      "source": [
        "## Introduction\n",
        "\n",
        "A Time-to-Digital circuit is implemented in order to quantify the time displacement between events. As in the figure below, it takes two inputs (start and stop) and quantifies the time displacement ($\\Delta t$). This displacement is then presented in form of a digital word output that can be encoded in different ways, e.g., binary, or thermometer code. TDCs can be found in a variety of circuits, especially mixed-signal circuits such as Phase-Locked Loops, SAR ADCs, Particle Detectors, etc.\n",
        "\n",
        "![tdc_simple](https://drive.google.com/uc?export=view&id=1wf7zMJLH3VdMqPxYrMS9rvrz7VTMNPbE)\n",
        "\n",
        "Advances in CMOS technology increased unit capacitance, but shrinkage of CMOS gate dimensions reduced transistor total gate capacitance significantly. The reduction in total gate capacitance led to a major reduction in gate delay. Integrated circuits for IoT devices are usually employed using technologies where the mean gate delay for a typical digital transistor sits at a few picoseconds. Even under extreme low-voltage supply conditions, the pessimistic perspective is on the order of a few nanoseconds.\n",
        "\n",
        "Due to their fast-switching nature, CMOS circuits are not friendly for measuring long periods employing single-shot type TDCs, e.g., Flash TDC and Vernier TDC.\n",
        "\n",
        "Since most of the previously proposed TDCs were meant to measure very small periods or required at least 1 MHz clock, this document proposes a novel hybrid TDC that can measure asynchronous events while keeping only an external 32.768 kHz clock. The proposed Hybrid Time-to-digital utilizes a coarse single counter TDC, fed with the 32.768 kHz clock. That frequency enables counting in a $30.52\\mu s$ granularity. In order to measure variations below that, a interpolation method called Nutt-Interpolation method is used.\n",
        "\n"
      ],
      "metadata": {
        "id": "UAB8oQ-9saOS"
      }
    },
    {
      "cell_type": "markdown",
      "metadata": {
        "id": "QNj3rwejPJE7"
      },
      "source": [
        "## II. Implementation Details of your Idea\n",
        "\n",
        "![TDC.png](https://drive.google.com/uc?export=view&id=1gUrGSERwZz6JLBstC_j7euhnAtei-kso)\n",
        "\n",
        "\n"
      ]
    },
    {
      "cell_type": "markdown",
      "metadata": {
        "id": "l145R7JJPJE7"
      },
      "source": [
        "**Writing the Verilog Files**"
      ]
    },
    {
      "cell_type": "code",
      "execution_count": null,
      "metadata": {
        "id": "J0k4CykG8wui"
      },
      "outputs": [],
      "source": [
        "%writefile ro.v\n",
        "`include \"/content/conda-env/share/pdk/sky130A/libs.ref/sky130_fd_sc_hd/verilog/sky130_fd_sc_hd.v\"\n",
        "module ro\n",
        "#(parameter N=29)\n",
        "(\n",
        "\tinput enable_i,\n",
        "\toutput freq_o\n",
        ");\n",
        "wire[N-1:0] ro;\n",
        "sky130_fd_sc_hd__nand2 nand2(.Y(ro[0]), .A(enable_i), .B(ro[N-1]));\n",
        "\n",
        "genvar i;\n",
        "generate\n",
        "\tfor (i=0;i<N-1; i=i+1) begin\n",
        "\t\t\tsky130_fd_sc_hd__inv inv0(.Y(ro[i+1]), .A(ro[i]));\n",
        "\tend\n",
        "endgenerate\n",
        "assign freq_o = ro[0];\n",
        "endmodule"
      ]
    },
    {
      "cell_type": "markdown",
      "source": [
        "## Write configuration\n",
        "\n",
        "[Documentation](https://openlane.readthedocs.io/en/latest/reference/configuration.html)"
      ],
      "metadata": {
        "id": "5FJ4W-R1Ws5F"
      }
    },
    {
      "cell_type": "code",
      "source": [
        "%%writefile config.json\n",
        "{\n",
        "    \"DESIGN_NAME\": \"ro\",\n",
        "    \"VERILOG_FILES\": \"dir::ro.v\",\n",
        "    \"STD_CELL_LIBRARY\": \"sky130_fd_sc_hd\",\n",
        "    \"RSZ_DONT_TOUCH_RX\": \"ro*\",\n",
        "    \"PL_RANDOM_GLB_PLACEMENT\": true,\n",
        "    \"FP_SIZING\": \"absolute\",\n",
        "    \"DIE_AREA\": \"0 0 50 50\",\n",
        "    \"DESIGN_IS_CORE\": 0,\n",
        "    \"PL_TARGET_DENSITY\": 0.70,\n",
        "    \"FP_PDN_AUTO_ADJUST\": false,\n",
        "    \"FP_PDN_VPITCH\": 25,\n",
        "    \"FP_PDN_HPITCH\": 25,\n",
        "    \"FP_PDN_VOFFSET\": 5,\n",
        "    \"FP_PDN_HOFFSET\": 5,\n",
        "    \"DIODE_INSERTION_STRATEGY\": 3\n",
        "}"
      ],
      "metadata": {
        "id": "488NphmcWZNi"
      },
      "execution_count": null,
      "outputs": []
    },
    {
      "cell_type": "markdown",
      "source": [
        "## Run OpenLane Flow\n",
        "\n",
        "[OpenLane](https://openlane.readthedocs.io/en/latest/) is an automated [RTL](https://en.wikipedia.org/wiki/Register-transfer_level) to [GDSII](https://en.wikipedia.org/wiki/GDSII) flow based on several components including [OpenROAD](https://theopenroadproject.org/), [Yosys](https://yosyshq.net/yosys/), [Magic](http://www.opencircuitdesign.com/magic/), [Netgen](http://opencircuitdesign.com/netgen/) and custom methodology scripts for design exploration and optimization targeting [open source PDKs](https://github.com/google/open-source-pdks).\n"
      ],
      "metadata": {
        "id": "g_Cyqa9_Wqw2"
      }
    },
    {
      "cell_type": "code",
      "source": [
        "%env PDK=sky130A\n",
        "!flow.tcl -design ."
      ],
      "metadata": {
        "id": "a8YEg6HeWavU"
      },
      "execution_count": null,
      "outputs": []
    },
    {
      "cell_type": "markdown",
      "source": [
        "## Display layout"
      ],
      "metadata": {
        "id": "sj9zU6JCWnsd"
      }
    },
    {
      "cell_type": "code",
      "source": [
        "import pathlib\n",
        "import gdstk\n",
        "import IPython.display\n",
        "\n",
        "gdss = sorted(pathlib.Path('runs').glob('*/results/final/gds/*.gds'))\n",
        "library = gdstk.read_gds(gdss[-1])\n",
        "top_cells = library.top_level()\n",
        "top_cells[0].write_svg('inverter.svg')\n",
        "IPython.display.SVG('inverter.svg')"
      ],
      "metadata": {
        "id": "nzXW-ODUWeek"
      },
      "execution_count": null,
      "outputs": []
    },
    {
      "cell_type": "markdown",
      "source": [
        "## Metrics\n",
        "\n",
        "[Documentation](https://openlane.readthedocs.io/en/latest/reference/datapoint_definitions.html)\n"
      ],
      "metadata": {
        "id": "ot4EqEzkWlMr"
      }
    },
    {
      "cell_type": "code",
      "source": [
        "import pandas as pd\n",
        "import pathlib\n",
        "\n",
        "pd.options.display.max_rows = None\n",
        "final_summary_reports = sorted(pathlib.Path('runs').glob('*/reports/metrics.csv'))\n",
        "df = pd.read_csv(final_summary_reports[-1])\n",
        "df.transpose()"
      ],
      "metadata": {
        "id": "hPvq4AJ8WgrF"
      },
      "execution_count": null,
      "outputs": []
    },
    {
      "cell_type": "markdown",
      "metadata": {
        "id": "_5Pg-YCXPJE_"
      },
      "source": [
        "## III. Summary of your Idea\n",
        "\n",
        "This is where you summarize your work. Comparison tables and a description of your expected results should be listed here."
      ]
    },
    {
      "cell_type": "markdown",
      "metadata": {
        "id": "llYW0-ATPJE_"
      },
      "source": [
        "## IV. Planification and Tasks\n",
        "\n",
        "Planning and breakdown of tasks are usually helpful for a successful project. Good Luck!"
      ]
    }
  ],
  "metadata": {
    "colab": {
      "provenance": [],
      "include_colab_link": true
    },
    "kernelspec": {
      "display_name": "Python 3.9.13 64-bit",
      "language": "python",
      "name": "python3"
    },
    "language_info": {
      "name": "python",
      "version": "3.9.13"
    },
    "vscode": {
      "interpreter": {
        "hash": "397704579725e15f5c7cb49fe5f0341eb7531c82d19f2c29d197e8b64ab5776b"
      }
    }
  },
  "nbformat": 4,
  "nbformat_minor": 0
}